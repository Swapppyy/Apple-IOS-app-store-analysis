{
 "cells": [
  {
   "cell_type": "markdown",
   "metadata": {},
   "source": [
    "# Apple IOS app store analysis"
   ]
  },
  {
   "cell_type": "markdown",
   "metadata": {},
   "source": [
    "## Introduction"
   ]
  },
  {
   "cell_type": "markdown",
   "metadata": {},
   "source": [
    "<p>I conducted an Exploratory Data Analysis on the Apple iOS App Store. This project involved examining and analyzing the dataset using SQL to extract valuable insights and trends related to app ratings, categories, monetization, and user engagement. The EDA aimed to uncover patterns and correlations within the data, providing a foundation for data-driven decision-making in the context of iOS app development and distribution.</p>\n"
   ]
  },
  {
   "cell_type": "markdown",
   "metadata": {},
   "source": [
    "#### Dataset Link: https://www.kaggle.com/datasets/ramamet4/app-store-apple-data-set-10k-apps"
   ]
  },
  {
   "cell_type": "markdown",
   "metadata": {},
   "source": [
    "### The aim of this notebook is to answer below questions:"
   ]
  },
  {
   "cell_type": "markdown",
   "metadata": {},
   "source": [
    "- <p>Determine whether paid apps have higher ratings than free apps?"
   ]
  },
  {
   "cell_type": "markdown",
   "metadata": {},
   "source": [
    "- <p>Check if apps with more supported languages have higher ratings?"
   ]
  },
  {
   "cell_type": "markdown",
   "metadata": {},
   "source": [
    "- <p>Analyze genres with low ratings"
   ]
  },
  {
   "cell_type": "markdown",
   "metadata": {},
   "source": [
    "- <p>Checking if there is a correlation between the length of description and user rating"
   ]
  },
  {
   "cell_type": "markdown",
   "metadata": {},
   "source": [
    "- <p>Check the top rated apps for each genre"
   ]
  },
  {
   "cell_type": "markdown",
   "metadata": {},
   "source": [
    "## Data Analysis using SQL"
   ]
  },
  {
   "cell_type": "markdown",
   "metadata": {},
   "source": [
    "#### To showcase my work i am using a different approach using Jupyter Notebook"
   ]
  },
  {
   "cell_type": "markdown",
   "metadata": {},
   "source": [
    "<p>As i am using my Jupyter Notebook i need to establish connection with MySQL on my local machine.</p>\n",
    "<p>Using a SQL Magic Extension: Jupyter Notebook has a built-in extension called \"SQL Magic\" that allows you to write SQL queries directly in a notebook cell.</p>"
   ]
  },
  {
   "cell_type": "markdown",
   "metadata": {},
   "source": [
    "<p>You can use any SQL tool you like to run this queries after loading the dataset </p>"
   ]
  },
  {
   "cell_type": "code",
   "execution_count": 1,
   "metadata": {},
   "outputs": [],
   "source": [
    "#!pip install ipython-sql\n",
    "%load_ext sql\n",
    "\n",
    "%sql sqlite:///C:/Users/mahaj/Downloads/Appledb"
   ]
  },
  {
   "cell_type": "code",
   "execution_count": 2,
   "metadata": {},
   "outputs": [
    {
     "name": "stdout",
     "output_type": "stream",
     "text": [
      " * sqlite:///C:/Users/mahaj/Downloads/Appledb\n",
      "Done.\n"
     ]
    },
    {
     "data": {
      "text/html": [
       "<table>\n",
       "    <thead>\n",
       "        <tr>\n",
       "            <th>id</th>\n",
       "            <th>track_name</th>\n",
       "            <th>size_bytes</th>\n",
       "            <th>currency</th>\n",
       "            <th>price</th>\n",
       "            <th>rating_count_tot</th>\n",
       "            <th>rating_count_ver</th>\n",
       "            <th>user_rating</th>\n",
       "            <th>user_rating_ver</th>\n",
       "            <th>ver</th>\n",
       "            <th>cont_rating</th>\n",
       "            <th>prime_genre</th>\n",
       "            <th>sup_devices.num</th>\n",
       "            <th>ipadSc_urls.num</th>\n",
       "            <th>lang_num</th>\n",
       "            <th>vpp_lic</th>\n",
       "        </tr>\n",
       "    </thead>\n",
       "    <tbody>\n",
       "        <tr>\n",
       "            <td>281656475</td>\n",
       "            <td>PAC-MAN Premium</td>\n",
       "            <td>100788224</td>\n",
       "            <td>USD</td>\n",
       "            <td>3.99</td>\n",
       "            <td>21292</td>\n",
       "            <td>26</td>\n",
       "            <td>4.0</td>\n",
       "            <td>4.5</td>\n",
       "            <td>6.3.5</td>\n",
       "            <td>4+</td>\n",
       "            <td>Games</td>\n",
       "            <td>38</td>\n",
       "            <td>5</td>\n",
       "            <td>10</td>\n",
       "            <td>1</td>\n",
       "        </tr>\n",
       "        <tr>\n",
       "            <td>281796108</td>\n",
       "            <td>Evernote - stay organized</td>\n",
       "            <td>158578688</td>\n",
       "            <td>USD</td>\n",
       "            <td>0.0</td>\n",
       "            <td>161065</td>\n",
       "            <td>26</td>\n",
       "            <td>4.0</td>\n",
       "            <td>3.5</td>\n",
       "            <td>8.2.2</td>\n",
       "            <td>4+</td>\n",
       "            <td>Productivity</td>\n",
       "            <td>37</td>\n",
       "            <td>5</td>\n",
       "            <td>23</td>\n",
       "            <td>1</td>\n",
       "        </tr>\n",
       "        <tr>\n",
       "            <td>281940292</td>\n",
       "            <td>WeatherBug - Local Weather, Radar, Maps, Alerts</td>\n",
       "            <td>100524032</td>\n",
       "            <td>USD</td>\n",
       "            <td>0.0</td>\n",
       "            <td>188583</td>\n",
       "            <td>2822</td>\n",
       "            <td>3.5</td>\n",
       "            <td>4.5</td>\n",
       "            <td>5.0.0</td>\n",
       "            <td>4+</td>\n",
       "            <td>Weather</td>\n",
       "            <td>37</td>\n",
       "            <td>5</td>\n",
       "            <td>3</td>\n",
       "            <td>1</td>\n",
       "        </tr>\n",
       "        <tr>\n",
       "            <td>282614216</td>\n",
       "            <td>eBay: Best App to Buy, Sell, Save! Online Shopping</td>\n",
       "            <td>128512000</td>\n",
       "            <td>USD</td>\n",
       "            <td>0.0</td>\n",
       "            <td>262241</td>\n",
       "            <td>649</td>\n",
       "            <td>4.0</td>\n",
       "            <td>4.5</td>\n",
       "            <td>5.10.0</td>\n",
       "            <td>12+</td>\n",
       "            <td>Shopping</td>\n",
       "            <td>37</td>\n",
       "            <td>5</td>\n",
       "            <td>9</td>\n",
       "            <td>1</td>\n",
       "        </tr>\n",
       "        <tr>\n",
       "            <td>282935706</td>\n",
       "            <td>Bible</td>\n",
       "            <td>92774400</td>\n",
       "            <td>USD</td>\n",
       "            <td>0.0</td>\n",
       "            <td>985920</td>\n",
       "            <td>5320</td>\n",
       "            <td>4.5</td>\n",
       "            <td>5.0</td>\n",
       "            <td>7.5.1</td>\n",
       "            <td>4+</td>\n",
       "            <td>Reference</td>\n",
       "            <td>37</td>\n",
       "            <td>5</td>\n",
       "            <td>45</td>\n",
       "            <td>1</td>\n",
       "        </tr>\n",
       "        <tr>\n",
       "            <td>283619399</td>\n",
       "            <td>Shanghai Mahjong</td>\n",
       "            <td>10485713</td>\n",
       "            <td>USD</td>\n",
       "            <td>0.99</td>\n",
       "            <td>8253</td>\n",
       "            <td>5516</td>\n",
       "            <td>4.0</td>\n",
       "            <td>4.0</td>\n",
       "            <td>1.8</td>\n",
       "            <td>4+</td>\n",
       "            <td>Games</td>\n",
       "            <td>47</td>\n",
       "            <td>5</td>\n",
       "            <td>1</td>\n",
       "            <td>1</td>\n",
       "        </tr>\n",
       "        <tr>\n",
       "            <td>283646709</td>\n",
       "            <td>PayPal - Send and request money safely</td>\n",
       "            <td>227795968</td>\n",
       "            <td>USD</td>\n",
       "            <td>0.0</td>\n",
       "            <td>119487</td>\n",
       "            <td>879</td>\n",
       "            <td>4.0</td>\n",
       "            <td>4.5</td>\n",
       "            <td>6.12.0</td>\n",
       "            <td>4+</td>\n",
       "            <td>Finance</td>\n",
       "            <td>37</td>\n",
       "            <td>0</td>\n",
       "            <td>19</td>\n",
       "            <td>1</td>\n",
       "        </tr>\n",
       "        <tr>\n",
       "            <td>284035177</td>\n",
       "            <td>Pandora - Music &amp; Radio</td>\n",
       "            <td>130242560</td>\n",
       "            <td>USD</td>\n",
       "            <td>0.0</td>\n",
       "            <td>1126879</td>\n",
       "            <td>3594</td>\n",
       "            <td>4.0</td>\n",
       "            <td>4.5</td>\n",
       "            <td>8.4.1</td>\n",
       "            <td>12+</td>\n",
       "            <td>Music</td>\n",
       "            <td>37</td>\n",
       "            <td>4</td>\n",
       "            <td>1</td>\n",
       "            <td>1</td>\n",
       "        </tr>\n",
       "        <tr>\n",
       "            <td>284666222</td>\n",
       "            <td>PCalc - The Best Calculator</td>\n",
       "            <td>49250304</td>\n",
       "            <td>USD</td>\n",
       "            <td>9.99</td>\n",
       "            <td>1117</td>\n",
       "            <td>4</td>\n",
       "            <td>4.5</td>\n",
       "            <td>5.0</td>\n",
       "            <td>3.6.6</td>\n",
       "            <td>4+</td>\n",
       "            <td>Utilities</td>\n",
       "            <td>37</td>\n",
       "            <td>5</td>\n",
       "            <td>1</td>\n",
       "            <td>1</td>\n",
       "        </tr>\n",
       "        <tr>\n",
       "            <td>284736660</td>\n",
       "            <td>Ms. PAC-MAN</td>\n",
       "            <td>70023168</td>\n",
       "            <td>USD</td>\n",
       "            <td>3.99</td>\n",
       "            <td>7885</td>\n",
       "            <td>40</td>\n",
       "            <td>4.0</td>\n",
       "            <td>4.0</td>\n",
       "            <td>4.0.4</td>\n",
       "            <td>4+</td>\n",
       "            <td>Games</td>\n",
       "            <td>38</td>\n",
       "            <td>0</td>\n",
       "            <td>10</td>\n",
       "            <td>1</td>\n",
       "        </tr>\n",
       "    </tbody>\n",
       "</table>"
      ],
      "text/plain": [
       "[(281656475, 'PAC-MAN Premium', 100788224, 'USD', 3.99, 21292, 26, 4.0, 4.5, '6.3.5', '4+', 'Games', 38, 5, 10, 1),\n",
       " (281796108, 'Evernote - stay organized', 158578688, 'USD', 0.0, 161065, 26, 4.0, 3.5, '8.2.2', '4+', 'Productivity', 37, 5, 23, 1),\n",
       " (281940292, 'WeatherBug - Local Weather, Radar, Maps, Alerts', 100524032, 'USD', 0.0, 188583, 2822, 3.5, 4.5, '5.0.0', '4+', 'Weather', 37, 5, 3, 1),\n",
       " (282614216, 'eBay: Best App to Buy, Sell, Save! Online Shopping', 128512000, 'USD', 0.0, 262241, 649, 4.0, 4.5, '5.10.0', '12+', 'Shopping', 37, 5, 9, 1),\n",
       " (282935706, 'Bible', 92774400, 'USD', 0.0, 985920, 5320, 4.5, 5.0, '7.5.1', '4+', 'Reference', 37, 5, 45, 1),\n",
       " (283619399, 'Shanghai Mahjong', 10485713, 'USD', 0.99, 8253, 5516, 4.0, 4.0, '1.8', '4+', 'Games', 47, 5, 1, 1),\n",
       " (283646709, 'PayPal - Send and request money safely', 227795968, 'USD', 0.0, 119487, 879, 4.0, 4.5, '6.12.0', '4+', 'Finance', 37, 0, 19, 1),\n",
       " (284035177, 'Pandora - Music & Radio', 130242560, 'USD', 0.0, 1126879, 3594, 4.0, 4.5, '8.4.1', '12+', 'Music', 37, 4, 1, 1),\n",
       " (284666222, 'PCalc - The Best Calculator', 49250304, 'USD', 9.99, 1117, 4, 4.5, 5.0, '3.6.6', '4+', 'Utilities', 37, 5, 1, 1),\n",
       " (284736660, 'Ms. PAC-MAN', 70023168, 'USD', 3.99, 7885, 40, 4.0, 4.0, '4.0.4', '4+', 'Games', 38, 0, 10, 1)]"
      ]
     },
     "execution_count": 2,
     "metadata": {},
     "output_type": "execute_result"
    }
   ],
   "source": [
    "%sql select * from apple_store limit 10"
   ]
  },
  {
   "cell_type": "markdown",
   "metadata": {},
   "source": [
    "#### Performing Exploratory Data Analysis"
   ]
  },
  {
   "cell_type": "code",
   "execution_count": 4,
   "metadata": {},
   "outputs": [
    {
     "name": "stdout",
     "output_type": "stream",
     "text": [
      " * sqlite:///C:/Users/mahaj/Downloads/Appledb\n",
      "Done.\n"
     ]
    },
    {
     "data": {
      "text/html": [
       "<table>\n",
       "    <thead>\n",
       "        <tr>\n",
       "            <th>UniqueAppIds</th>\n",
       "        </tr>\n",
       "    </thead>\n",
       "    <tbody>\n",
       "        <tr>\n",
       "            <td>7197</td>\n",
       "        </tr>\n",
       "    </tbody>\n",
       "</table>"
      ],
      "text/plain": [
       "[(7197,)]"
      ]
     },
     "execution_count": 4,
     "metadata": {},
     "output_type": "execute_result"
    }
   ],
   "source": [
    "%sql select count(distinct id) AS UniqueAppIds From apple_store;"
   ]
  },
  {
   "cell_type": "code",
   "execution_count": 5,
   "metadata": {},
   "outputs": [
    {
     "name": "stdout",
     "output_type": "stream",
     "text": [
      " * sqlite:///C:/Users/mahaj/Downloads/Appledb\n",
      "Done.\n"
     ]
    },
    {
     "data": {
      "text/html": [
       "<table>\n",
       "    <thead>\n",
       "        <tr>\n",
       "            <th>UniqueAppIds</th>\n",
       "        </tr>\n",
       "    </thead>\n",
       "    <tbody>\n",
       "        <tr>\n",
       "            <td>7197</td>\n",
       "        </tr>\n",
       "    </tbody>\n",
       "</table>"
      ],
      "text/plain": [
       "[(7197,)]"
      ]
     },
     "execution_count": 5,
     "metadata": {},
     "output_type": "execute_result"
    }
   ],
   "source": [
    "%sql select count(distinct id) AS UniqueAppIds From store_description;"
   ]
  },
  {
   "cell_type": "markdown",
   "metadata": {},
   "source": [
    "#### Check for missing values in both tables"
   ]
  },
  {
   "cell_type": "code",
   "execution_count": 6,
   "metadata": {
    "scrolled": true
   },
   "outputs": [
    {
     "name": "stdout",
     "output_type": "stream",
     "text": [
      " * sqlite:///C:/Users/mahaj/Downloads/Appledb\n",
      "Done.\n"
     ]
    },
    {
     "data": {
      "text/html": [
       "<table>\n",
       "    <thead>\n",
       "        <tr>\n",
       "            <th>MissingValues</th>\n",
       "        </tr>\n",
       "    </thead>\n",
       "    <tbody>\n",
       "        <tr>\n",
       "            <td>0</td>\n",
       "        </tr>\n",
       "    </tbody>\n",
       "</table>"
      ],
      "text/plain": [
       "[(0,)]"
      ]
     },
     "execution_count": 6,
     "metadata": {},
     "output_type": "execute_result"
    }
   ],
   "source": [
    "%sql select count(*) as MissingValues from apple_store where track_name IS NULL OR user_rating IS NULL OR prime_genre IS NULL"
   ]
  },
  {
   "cell_type": "code",
   "execution_count": 7,
   "metadata": {
    "scrolled": true
   },
   "outputs": [
    {
     "name": "stdout",
     "output_type": "stream",
     "text": [
      " * sqlite:///C:/Users/mahaj/Downloads/Appledb\n",
      "Done.\n"
     ]
    },
    {
     "data": {
      "text/html": [
       "<table>\n",
       "    <thead>\n",
       "        <tr>\n",
       "            <th>MissingValues</th>\n",
       "        </tr>\n",
       "    </thead>\n",
       "    <tbody>\n",
       "        <tr>\n",
       "            <td>0</td>\n",
       "        </tr>\n",
       "    </tbody>\n",
       "</table>"
      ],
      "text/plain": [
       "[(0,)]"
      ]
     },
     "execution_count": 7,
     "metadata": {},
     "output_type": "execute_result"
    }
   ],
   "source": [
    "%sql select count(*) as MissingValues from store_description where app_desc IS NULL"
   ]
  },
  {
   "cell_type": "markdown",
   "metadata": {},
   "source": [
    "#### Finding out the number of apps per genre"
   ]
  },
  {
   "cell_type": "code",
   "execution_count": 8,
   "metadata": {},
   "outputs": [
    {
     "name": "stdout",
     "output_type": "stream",
     "text": [
      " * sqlite:///C:/Users/mahaj/Downloads/Appledb\n",
      "Done.\n"
     ]
    },
    {
     "data": {
      "text/html": [
       "<table>\n",
       "    <thead>\n",
       "        <tr>\n",
       "            <th>prime_genre</th>\n",
       "            <th>NumApps</th>\n",
       "        </tr>\n",
       "    </thead>\n",
       "    <tbody>\n",
       "        <tr>\n",
       "            <td>Games</td>\n",
       "            <td>3862</td>\n",
       "        </tr>\n",
       "        <tr>\n",
       "            <td>Entertainment</td>\n",
       "            <td>535</td>\n",
       "        </tr>\n",
       "        <tr>\n",
       "            <td>Education</td>\n",
       "            <td>453</td>\n",
       "        </tr>\n",
       "        <tr>\n",
       "            <td>Photo &amp; Video</td>\n",
       "            <td>349</td>\n",
       "        </tr>\n",
       "        <tr>\n",
       "            <td>Utilities</td>\n",
       "            <td>248</td>\n",
       "        </tr>\n",
       "        <tr>\n",
       "            <td>Health &amp; Fitness</td>\n",
       "            <td>180</td>\n",
       "        </tr>\n",
       "        <tr>\n",
       "            <td>Productivity</td>\n",
       "            <td>178</td>\n",
       "        </tr>\n",
       "        <tr>\n",
       "            <td>Social Networking</td>\n",
       "            <td>167</td>\n",
       "        </tr>\n",
       "        <tr>\n",
       "            <td>Lifestyle</td>\n",
       "            <td>144</td>\n",
       "        </tr>\n",
       "        <tr>\n",
       "            <td>Music</td>\n",
       "            <td>138</td>\n",
       "        </tr>\n",
       "        <tr>\n",
       "            <td>Shopping</td>\n",
       "            <td>122</td>\n",
       "        </tr>\n",
       "        <tr>\n",
       "            <td>Sports</td>\n",
       "            <td>114</td>\n",
       "        </tr>\n",
       "        <tr>\n",
       "            <td>Book</td>\n",
       "            <td>112</td>\n",
       "        </tr>\n",
       "        <tr>\n",
       "            <td>Finance</td>\n",
       "            <td>104</td>\n",
       "        </tr>\n",
       "        <tr>\n",
       "            <td>Travel</td>\n",
       "            <td>81</td>\n",
       "        </tr>\n",
       "        <tr>\n",
       "            <td>News</td>\n",
       "            <td>75</td>\n",
       "        </tr>\n",
       "        <tr>\n",
       "            <td>Weather</td>\n",
       "            <td>72</td>\n",
       "        </tr>\n",
       "        <tr>\n",
       "            <td>Reference</td>\n",
       "            <td>64</td>\n",
       "        </tr>\n",
       "        <tr>\n",
       "            <td>Food &amp; Drink</td>\n",
       "            <td>63</td>\n",
       "        </tr>\n",
       "        <tr>\n",
       "            <td>Business</td>\n",
       "            <td>57</td>\n",
       "        </tr>\n",
       "        <tr>\n",
       "            <td>Navigation</td>\n",
       "            <td>46</td>\n",
       "        </tr>\n",
       "        <tr>\n",
       "            <td>Medical</td>\n",
       "            <td>23</td>\n",
       "        </tr>\n",
       "        <tr>\n",
       "            <td>Catalogs</td>\n",
       "            <td>10</td>\n",
       "        </tr>\n",
       "    </tbody>\n",
       "</table>"
      ],
      "text/plain": [
       "[('Games', 3862),\n",
       " ('Entertainment', 535),\n",
       " ('Education', 453),\n",
       " ('Photo & Video', 349),\n",
       " ('Utilities', 248),\n",
       " ('Health & Fitness', 180),\n",
       " ('Productivity', 178),\n",
       " ('Social Networking', 167),\n",
       " ('Lifestyle', 144),\n",
       " ('Music', 138),\n",
       " ('Shopping', 122),\n",
       " ('Sports', 114),\n",
       " ('Book', 112),\n",
       " ('Finance', 104),\n",
       " ('Travel', 81),\n",
       " ('News', 75),\n",
       " ('Weather', 72),\n",
       " ('Reference', 64),\n",
       " ('Food & Drink', 63),\n",
       " ('Business', 57),\n",
       " ('Navigation', 46),\n",
       " ('Medical', 23),\n",
       " ('Catalogs', 10)]"
      ]
     },
     "execution_count": 8,
     "metadata": {},
     "output_type": "execute_result"
    }
   ],
   "source": [
    "%sql select prime_genre, count(*) as NumApps From apple_store group by prime_genre order by NumApps DESC"
   ]
  },
  {
   "cell_type": "markdown",
   "metadata": {},
   "source": [
    "#### Overview of the apps rating"
   ]
  },
  {
   "cell_type": "code",
   "execution_count": 9,
   "metadata": {},
   "outputs": [
    {
     "name": "stdout",
     "output_type": "stream",
     "text": [
      " * sqlite:///C:/Users/mahaj/Downloads/Appledb\n",
      "Done.\n"
     ]
    },
    {
     "data": {
      "text/html": [
       "<table>\n",
       "    <thead>\n",
       "        <tr>\n",
       "            <th>MinRating</th>\n",
       "            <th>MaxRating</th>\n",
       "            <th>AvgRating</th>\n",
       "        </tr>\n",
       "    </thead>\n",
       "    <tbody>\n",
       "        <tr>\n",
       "            <td>0.0</td>\n",
       "            <td>5.0</td>\n",
       "            <td>3.526955675976101</td>\n",
       "        </tr>\n",
       "    </tbody>\n",
       "</table>"
      ],
      "text/plain": [
       "[(0.0, 5.0, 3.526955675976101)]"
      ]
     },
     "execution_count": 9,
     "metadata": {},
     "output_type": "execute_result"
    }
   ],
   "source": [
    "%sql select min(user_rating) as MinRating, max(user_rating) as MaxRating, avg(user_rating) as AvgRating From apple_store;"
   ]
  },
  {
   "cell_type": "markdown",
   "metadata": {},
   "source": [
    "#### Data Analysis "
   ]
  },
  {
   "cell_type": "markdown",
   "metadata": {},
   "source": [
    "#### Determine whether paid apps have higher ratings than free apps?"
   ]
  },
  {
   "cell_type": "code",
   "execution_count": 10,
   "metadata": {},
   "outputs": [
    {
     "name": "stdout",
     "output_type": "stream",
     "text": [
      " * sqlite:///C:/Users/mahaj/Downloads/Appledb\n",
      "Done.\n"
     ]
    },
    {
     "data": {
      "text/html": [
       "<table>\n",
       "    <thead>\n",
       "        <tr>\n",
       "            <th>App_type</th>\n",
       "            <th>Avg_rating</th>\n",
       "        </tr>\n",
       "    </thead>\n",
       "    <tbody>\n",
       "        <tr>\n",
       "            <td>free</td>\n",
       "            <td>3.3767258382642997</td>\n",
       "        </tr>\n",
       "        <tr>\n",
       "            <td>paid</td>\n",
       "            <td>3.720948742438714</td>\n",
       "        </tr>\n",
       "    </tbody>\n",
       "</table>"
      ],
      "text/plain": [
       "[('free', 3.3767258382642997), ('paid', 3.720948742438714)]"
      ]
     },
     "execution_count": 10,
     "metadata": {},
     "output_type": "execute_result"
    }
   ],
   "source": [
    "%sql select case when price > 0 then 'paid' else 'free'end as App_type, avg(user_rating) as Avg_rating from apple_store group by App_type "
   ]
  },
  {
   "cell_type": "markdown",
   "metadata": {},
   "source": [
    "#### Check if apps with more supported languages have higher ratings?"
   ]
  },
  {
   "cell_type": "code",
   "execution_count": 12,
   "metadata": {
    "scrolled": true
   },
   "outputs": [
    {
     "name": "stdout",
     "output_type": "stream",
     "text": [
      " * sqlite:///C:/Users/mahaj/Downloads/Appledb\n",
      "Done.\n"
     ]
    },
    {
     "data": {
      "text/html": [
       "<table>\n",
       "    <thead>\n",
       "        <tr>\n",
       "            <th>language_bucket</th>\n",
       "            <th>Avg_rating</th>\n",
       "        </tr>\n",
       "    </thead>\n",
       "    <tbody>\n",
       "        <tr>\n",
       "            <td>10-30 languages</td>\n",
       "            <td>4.1305120910384066</td>\n",
       "        </tr>\n",
       "        <tr>\n",
       "            <td>&gt;30 languages</td>\n",
       "            <td>3.7777777777777777</td>\n",
       "        </tr>\n",
       "        <tr>\n",
       "            <td>&lt; 10 languages</td>\n",
       "            <td>3.368327402135231</td>\n",
       "        </tr>\n",
       "    </tbody>\n",
       "</table>"
      ],
      "text/plain": [
       "[('10-30 languages', 4.1305120910384066),\n",
       " ('>30 languages', 3.7777777777777777),\n",
       " ('< 10 languages', 3.368327402135231)]"
      ]
     },
     "execution_count": 12,
     "metadata": {},
     "output_type": "execute_result"
    }
   ],
   "source": [
    "%sql select case when lang_num < 10 then '< 10 languages' when lang_num between 10 and 30 then '10-30 languages' else '>30 languages' end as language_bucket, avg(user_rating) as Avg_rating from apple_store group by language_bucket order by Avg_rating desc"
   ]
  },
  {
   "cell_type": "markdown",
   "metadata": {},
   "source": [
    "#### Analyze genres with low ratings"
   ]
  },
  {
   "cell_type": "code",
   "execution_count": 13,
   "metadata": {
    "scrolled": true
   },
   "outputs": [
    {
     "name": "stdout",
     "output_type": "stream",
     "text": [
      " * sqlite:///C:/Users/mahaj/Downloads/Appledb\n",
      "Done.\n"
     ]
    },
    {
     "data": {
      "text/html": [
       "<table>\n",
       "    <thead>\n",
       "        <tr>\n",
       "            <th>prime_genre</th>\n",
       "            <th>Avg_rating</th>\n",
       "        </tr>\n",
       "    </thead>\n",
       "    <tbody>\n",
       "        <tr>\n",
       "            <td>Catalogs</td>\n",
       "            <td>2.1</td>\n",
       "        </tr>\n",
       "        <tr>\n",
       "            <td>Finance</td>\n",
       "            <td>2.4326923076923075</td>\n",
       "        </tr>\n",
       "        <tr>\n",
       "            <td>Book</td>\n",
       "            <td>2.4776785714285716</td>\n",
       "        </tr>\n",
       "        <tr>\n",
       "            <td>Navigation</td>\n",
       "            <td>2.6847826086956523</td>\n",
       "        </tr>\n",
       "        <tr>\n",
       "            <td>Lifestyle</td>\n",
       "            <td>2.8055555555555554</td>\n",
       "        </tr>\n",
       "        <tr>\n",
       "            <td>News</td>\n",
       "            <td>2.98</td>\n",
       "        </tr>\n",
       "        <tr>\n",
       "            <td>Sports</td>\n",
       "            <td>2.982456140350877</td>\n",
       "        </tr>\n",
       "        <tr>\n",
       "            <td>Social Networking</td>\n",
       "            <td>2.9850299401197606</td>\n",
       "        </tr>\n",
       "        <tr>\n",
       "            <td>Food &amp; Drink</td>\n",
       "            <td>3.1825396825396823</td>\n",
       "        </tr>\n",
       "        <tr>\n",
       "            <td>Entertainment</td>\n",
       "            <td>3.2467289719626167</td>\n",
       "        </tr>\n",
       "    </tbody>\n",
       "</table>"
      ],
      "text/plain": [
       "[('Catalogs', 2.1),\n",
       " ('Finance', 2.4326923076923075),\n",
       " ('Book', 2.4776785714285716),\n",
       " ('Navigation', 2.6847826086956523),\n",
       " ('Lifestyle', 2.8055555555555554),\n",
       " ('News', 2.98),\n",
       " ('Sports', 2.982456140350877),\n",
       " ('Social Networking', 2.9850299401197606),\n",
       " ('Food & Drink', 3.1825396825396823),\n",
       " ('Entertainment', 3.2467289719626167)]"
      ]
     },
     "execution_count": 13,
     "metadata": {},
     "output_type": "execute_result"
    }
   ],
   "source": [
    "%sql select prime_genre, avg(user_rating) as Avg_rating from apple_store group by prime_genre order by Avg_rating asc limit 10"
   ]
  },
  {
   "cell_type": "markdown",
   "metadata": {},
   "source": [
    "#### Checking if there is a correlation between the length of description and user rating"
   ]
  },
  {
   "cell_type": "code",
   "execution_count": 14,
   "metadata": {},
   "outputs": [
    {
     "name": "stdout",
     "output_type": "stream",
     "text": [
      " * sqlite:///C:/Users/mahaj/Downloads/Appledb\n",
      "Done.\n"
     ]
    },
    {
     "data": {
      "text/html": [
       "<table>\n",
       "    <thead>\n",
       "        <tr>\n",
       "            <th>description_length_bucket</th>\n",
       "            <th>Avg_rating</th>\n",
       "        </tr>\n",
       "    </thead>\n",
       "    <tbody>\n",
       "        <tr>\n",
       "            <td>Large</td>\n",
       "            <td>3.855946944988041</td>\n",
       "        </tr>\n",
       "        <tr>\n",
       "            <td>Medium</td>\n",
       "            <td>3.232809430255403</td>\n",
       "        </tr>\n",
       "        <tr>\n",
       "            <td>Short</td>\n",
       "            <td>2.533613445378151</td>\n",
       "        </tr>\n",
       "    </tbody>\n",
       "</table>"
      ],
      "text/plain": [
       "[('Large', 3.855946944988041),\n",
       " ('Medium', 3.232809430255403),\n",
       " ('Short', 2.533613445378151)]"
      ]
     },
     "execution_count": 14,
     "metadata": {},
     "output_type": "execute_result"
    }
   ],
   "source": [
    "%sql select case when length(b.app_desc) < 500 then 'Short' when length(b.app_desc) between 500 and 1000 then 'Medium' else 'Large' end as description_length_bucket, avg(a.user_rating) as Avg_rating from apple_store as A Join store_description as B on a.id = b.id group by description_length_bucket order by Avg_rating desc"
   ]
  },
  {
   "cell_type": "markdown",
   "metadata": {},
   "source": [
    "#### Check the top rated apps for each genre"
   ]
  },
  {
   "cell_type": "code",
   "execution_count": 16,
   "metadata": {},
   "outputs": [
    {
     "name": "stdout",
     "output_type": "stream",
     "text": [
      " * sqlite:///C:/Users/mahaj/Downloads/Appledb\n",
      "Done.\n"
     ]
    },
    {
     "data": {
      "text/html": [
       "<table>\n",
       "    <thead>\n",
       "        <tr>\n",
       "            <th>prime_genre</th>\n",
       "            <th>track_name</th>\n",
       "            <th>user_rating</th>\n",
       "        </tr>\n",
       "    </thead>\n",
       "    <tbody>\n",
       "        <tr>\n",
       "            <td>Book</td>\n",
       "            <td>Color Therapy Adult Coloring Book for Adults</td>\n",
       "            <td>5.0</td>\n",
       "        </tr>\n",
       "        <tr>\n",
       "            <td>Business</td>\n",
       "            <td>TurboScan™ Pro - document &amp; receipt scanner: scan multiple pages and photos to PDF</td>\n",
       "            <td>5.0</td>\n",
       "        </tr>\n",
       "        <tr>\n",
       "            <td>Catalogs</td>\n",
       "            <td>CPlus for Craigslist app - mobile classifieds</td>\n",
       "            <td>5.0</td>\n",
       "        </tr>\n",
       "        <tr>\n",
       "            <td>Education</td>\n",
       "            <td>Elevate - Brain Training and Games</td>\n",
       "            <td>5.0</td>\n",
       "        </tr>\n",
       "        <tr>\n",
       "            <td>Entertainment</td>\n",
       "            <td>Bruh-Button</td>\n",
       "            <td>5.0</td>\n",
       "        </tr>\n",
       "        <tr>\n",
       "            <td>Finance</td>\n",
       "            <td>Credit Karma: Free Credit Scores, Reports &amp; Alerts</td>\n",
       "            <td>5.0</td>\n",
       "        </tr>\n",
       "        <tr>\n",
       "            <td>Food &amp; Drink</td>\n",
       "            <td>Domino&#x27;s Pizza USA</td>\n",
       "            <td>5.0</td>\n",
       "        </tr>\n",
       "        <tr>\n",
       "            <td>Games</td>\n",
       "            <td>Head Soccer</td>\n",
       "            <td>5.0</td>\n",
       "        </tr>\n",
       "        <tr>\n",
       "            <td>Health &amp; Fitness</td>\n",
       "            <td>Yoga Studio</td>\n",
       "            <td>5.0</td>\n",
       "        </tr>\n",
       "        <tr>\n",
       "            <td>Lifestyle</td>\n",
       "            <td>ipsy - Makeup, subscription and beauty tips</td>\n",
       "            <td>5.0</td>\n",
       "        </tr>\n",
       "        <tr>\n",
       "            <td>Medical</td>\n",
       "            <td>Blink Health</td>\n",
       "            <td>5.0</td>\n",
       "        </tr>\n",
       "        <tr>\n",
       "            <td>Music</td>\n",
       "            <td>Tenuto</td>\n",
       "            <td>5.0</td>\n",
       "        </tr>\n",
       "        <tr>\n",
       "            <td>Navigation</td>\n",
       "            <td>parkOmator – for Apple Watch meter expiration timer, notifications &amp; GPS navigator to car location</td>\n",
       "            <td>5.0</td>\n",
       "        </tr>\n",
       "        <tr>\n",
       "            <td>News</td>\n",
       "            <td>The Guardian</td>\n",
       "            <td>5.0</td>\n",
       "        </tr>\n",
       "        <tr>\n",
       "            <td>Photo &amp; Video</td>\n",
       "            <td>Pic Collage - Picture Editor &amp; Photo Collage Maker</td>\n",
       "            <td>5.0</td>\n",
       "        </tr>\n",
       "        <tr>\n",
       "            <td>Productivity</td>\n",
       "            <td>VPN Proxy Master - Unlimited WiFi security VPN</td>\n",
       "            <td>5.0</td>\n",
       "        </tr>\n",
       "        <tr>\n",
       "            <td>Reference</td>\n",
       "            <td>Sky Guide: View Stars Night or Day</td>\n",
       "            <td>5.0</td>\n",
       "        </tr>\n",
       "        <tr>\n",
       "            <td>Shopping</td>\n",
       "            <td>Zappos: shop shoes &amp; clothes, fast free shipping</td>\n",
       "            <td>5.0</td>\n",
       "        </tr>\n",
       "        <tr>\n",
       "            <td>Social Networking</td>\n",
       "            <td>We Heart It - Fashion, wallpapers, quotes, tattoos</td>\n",
       "            <td>5.0</td>\n",
       "        </tr>\n",
       "        <tr>\n",
       "            <td>Sports</td>\n",
       "            <td>J23 - Jordan Release Dates and History</td>\n",
       "            <td>5.0</td>\n",
       "        </tr>\n",
       "        <tr>\n",
       "            <td>Travel</td>\n",
       "            <td>Urlaubspiraten</td>\n",
       "            <td>5.0</td>\n",
       "        </tr>\n",
       "        <tr>\n",
       "            <td>Utilities</td>\n",
       "            <td>Flashlight Ⓞ</td>\n",
       "            <td>5.0</td>\n",
       "        </tr>\n",
       "        <tr>\n",
       "            <td>Weather</td>\n",
       "            <td>NOAA Hi-Def Radar Pro -  Storm Warnings, Hurricane Tracker &amp; Weather Forecast</td>\n",
       "            <td>5.0</td>\n",
       "        </tr>\n",
       "    </tbody>\n",
       "</table>"
      ],
      "text/plain": [
       "[('Book', 'Color Therapy Adult Coloring Book for Adults', 5.0),\n",
       " ('Business', 'TurboScan™ Pro - document & receipt scanner: scan multiple pages and photos to PDF', 5.0),\n",
       " ('Catalogs', 'CPlus for Craigslist app - mobile classifieds', 5.0),\n",
       " ('Education', 'Elevate - Brain Training and Games', 5.0),\n",
       " ('Entertainment', 'Bruh-Button', 5.0),\n",
       " ('Finance', 'Credit Karma: Free Credit Scores, Reports & Alerts', 5.0),\n",
       " ('Food & Drink', \"Domino's Pizza USA\", 5.0),\n",
       " ('Games', 'Head Soccer', 5.0),\n",
       " ('Health & Fitness', 'Yoga Studio', 5.0),\n",
       " ('Lifestyle', 'ipsy - Makeup, subscription and beauty tips', 5.0),\n",
       " ('Medical', 'Blink Health', 5.0),\n",
       " ('Music', 'Tenuto', 5.0),\n",
       " ('Navigation', 'parkOmator – for Apple Watch meter expiration timer, notifications & GPS navigator to car location', 5.0),\n",
       " ('News', 'The Guardian', 5.0),\n",
       " ('Photo & Video', 'Pic Collage - Picture Editor & Photo Collage Maker', 5.0),\n",
       " ('Productivity', 'VPN Proxy Master - Unlimited WiFi security VPN', 5.0),\n",
       " ('Reference', 'Sky Guide: View Stars Night or Day', 5.0),\n",
       " ('Shopping', 'Zappos: shop shoes & clothes, fast free shipping', 5.0),\n",
       " ('Social Networking', 'We Heart It - Fashion, wallpapers, quotes, tattoos', 5.0),\n",
       " ('Sports', 'J23 - Jordan Release Dates and History', 5.0),\n",
       " ('Travel', 'Urlaubspiraten', 5.0),\n",
       " ('Utilities', 'Flashlight Ⓞ', 5.0),\n",
       " ('Weather', 'NOAA Hi-Def Radar Pro -  Storm Warnings, Hurricane Tracker & Weather Forecast', 5.0)]"
      ]
     },
     "execution_count": 16,
     "metadata": {},
     "output_type": "execute_result"
    }
   ],
   "source": [
    "%sql SELECT prime_genre, track_name, user_rating FROM (SELECT prime_genre, track_name, user_rating, RANK() OVER (PARTITION BY prime_genre ORDER BY user_rating DESC, rating_count_tot DESC) AS rank FROM apple_store) AS A WHERE A.rank = 1"
   ]
  }
 ],
 "metadata": {
  "kernelspec": {
   "display_name": "Python 3 (ipykernel)",
   "language": "python",
   "name": "python3"
  },
  "language_info": {
   "codemirror_mode": {
    "name": "ipython",
    "version": 3
   },
   "file_extension": ".py",
   "mimetype": "text/x-python",
   "name": "python",
   "nbconvert_exporter": "python",
   "pygments_lexer": "ipython3",
   "version": "3.9.12"
  }
 },
 "nbformat": 4,
 "nbformat_minor": 2
}
